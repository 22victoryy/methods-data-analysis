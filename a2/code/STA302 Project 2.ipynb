{
 "cells": [
  {
   "cell_type": "markdown",
   "metadata": {},
   "source": [
    "# STA302 Project 2 #"
   ]
  },
  {
   "cell_type": "markdown",
   "metadata": {},
   "source": [
    "## Task 1 ##"
   ]
  },
  {
   "cell_type": "markdown",
   "metadata": {},
   "source": [
    "1. Simualate the code"
   ]
  },
  {
   "cell_type": "code",
   "execution_count": 17,
   "metadata": {},
   "outputs": [],
   "source": [
    "library(MASS)\n",
    "## Simulation for correlated predictors ## \n",
    "set.seed(1003998757)\n",
    "\n",
    "nsample <- 10\n",
    "nsim <- 100  # set to 100\n",
    "\n",
    "sig2 <- rchisq(1, df = 1) ## The true error variance\n",
    "\n",
    "bet <- c(rnorm(3, 0, 1), 0) ## 4 values of beta that is beta0, beta1, beta2, beta3 = 0\n",
    "\n",
    "muvec <- rnorm(3, 0, 1)\n",
    "sigmat <- diag(rchisq(3, df = 4))\n",
    "X <- mvrnorm(nsample, mu = muvec, Sigma = sigmat)\n",
    "Xmat <- cbind(1, X)\n",
    "\n",
    "## Simulate the response ##\n",
    "bets <- matrix(NA, ncol = length(bet), nrow = nsim)\n",
    "\n",
    "intercept <- vector()\n",
    "x1 <- vector()\n",
    "x2 <- vector()\n",
    "x3 <- vector()\n",
    "\n",
    "for(i in 1:nsim){\n",
    "    Y <- Xmat%*%bet + rnorm(nsample, 0, sig2)\n",
    "    model1 <- lm(Y ~ X)\n",
    "    bets[i,] <- coef(model1)\n",
    "    # format -> b0, x1, x2, x3\n",
    "    intercept[i] <- bets[i,1]\n",
    "    x1[i] <- bets[i, 2]\n",
    "    x2[i] <- bets[i, 3]\n",
    "    x3[i] <- bets[i, 4]\n",
    "    \n",
    "#     print(intercept)\n",
    "#     print(x1)\n",
    "#     print(x2)\n",
    "#     print(x3)\n",
    "}"
   ]
  },
  {
   "cell_type": "markdown",
   "metadata": {},
   "source": [
    "1.First assume that the correlation between the three predictors are zero, i.e., the off diagonals of sigmat are zero. Set the number of simulations nsim = 100. Generate Y for each simulation. Then run simple linear regression for each of the three variables seperately. Obtain the regression parameter estimates and their variances from the coefficients tables obtained from the lm function. Comment on whether the estimates are unbiased. Also, comment on their variances."
   ]
  },
  {
   "cell_type": "code",
   "execution_count": 22,
   "metadata": {},
   "outputs": [
    {
     "name": "stdout",
     "output_type": "stream",
     "text": [
      "[1] \"Param Intercept:\"\n",
      "  [1] -2.279285 -2.281073 -2.279199 -2.277858 -2.276895 -2.276991 -2.277417\n",
      "  [8] -2.278600 -2.278511 -2.280136 -2.279756 -2.278778 -2.280506 -2.278433\n",
      " [15] -2.279888 -2.280301 -2.280722 -2.277540 -2.277705 -2.280236 -2.278665\n",
      " [22] -2.277756 -2.282929 -2.278898 -2.277058 -2.280515 -2.276491 -2.276371\n",
      " [29] -2.278632 -2.279076 -2.281349 -2.278876 -2.276883 -2.282587 -2.279200\n",
      " [36] -2.280803 -2.280695 -2.280443 -2.276985 -2.275493 -2.278635 -2.278860\n",
      " [43] -2.281597 -2.279525 -2.279074 -2.278123 -2.278036 -2.278301 -2.278242\n",
      " [50] -2.278635 -2.277569 -2.280166 -2.280068 -2.280507 -2.277745 -2.277468\n",
      " [57] -2.277627 -2.275748 -2.280590 -2.279896 -2.277107 -2.278901 -2.280078\n",
      " [64] -2.275038 -2.278338 -2.280790 -2.279424 -2.279513 -2.280064 -2.277865\n",
      " [71] -2.279373 -2.280153 -2.278605 -2.277142 -2.277652 -2.278977 -2.276681\n",
      " [78] -2.279760 -2.279496 -2.275394 -2.278175 -2.279023 -2.281758 -2.279806\n",
      " [85] -2.280105 -2.276628 -2.278599 -2.278726 -2.279421 -2.277591 -2.279672\n",
      " [92] -2.279187 -2.281105 -2.279055 -2.278019 -2.278744 -2.278666 -2.276767\n",
      " [99] -2.277727 -2.279306\n",
      "[1] \"variance:\"\n",
      "[1] 2.369237e-06\n",
      "[1] \"Param x1:\"\n",
      "  [1] -0.4672788 -0.4672016 -0.4671304 -0.4671526 -0.4663733 -0.4666994\n",
      "  [7] -0.4666951 -0.4667869 -0.4662977 -0.4671925 -0.4669208 -0.4667652\n",
      " [13] -0.4673918 -0.4669951 -0.4672612 -0.4674947 -0.4678531 -0.4664122\n",
      " [19] -0.4671158 -0.4674890 -0.4666688 -0.4660436 -0.4674693 -0.4671409\n",
      " [25] -0.4666868 -0.4676930 -0.4668808 -0.4668922 -0.4672079 -0.4664828\n",
      " [31] -0.4678348 -0.4673067 -0.4669112 -0.4679395 -0.4671095 -0.4675053\n",
      " [37] -0.4674951 -0.4667799 -0.4664034 -0.4659539 -0.4677147 -0.4665038\n",
      " [43] -0.4681563 -0.4671366 -0.4670496 -0.4670851 -0.4667742 -0.4666894\n",
      " [49] -0.4666897 -0.4669542 -0.4673364 -0.4672098 -0.4671403 -0.4671460\n",
      " [55] -0.4668896 -0.4660155 -0.4663973 -0.4667085 -0.4668503 -0.4673040\n",
      " [61] -0.4666915 -0.4674949 -0.4674400 -0.4665589 -0.4667889 -0.4673598\n",
      " [67] -0.4672555 -0.4668562 -0.4669727 -0.4667551 -0.4671394 -0.4675527\n",
      " [73] -0.4670378 -0.4663965 -0.4666621 -0.4671618 -0.4660421 -0.4672451\n",
      " [79] -0.4669982 -0.4666949 -0.4664819 -0.4667857 -0.4678401 -0.4678200\n",
      " [85] -0.4670710 -0.4664148 -0.4667648 -0.4671214 -0.4668385 -0.4667964\n",
      " [91] -0.4667677 -0.4669809 -0.4671241 -0.4670711 -0.4668229 -0.4665766\n",
      " [97] -0.4672637 -0.4663058 -0.4666378 -0.4668574\n",
      "[1] \"variance:\"\n",
      "[1] 1.942195e-07\n",
      "[1] \"Param x2:\"\n",
      "  [1] -1.628976 -1.628662 -1.629917 -1.629275 -1.630174 -1.629522 -1.629514\n",
      "  [8] -1.629379 -1.629657 -1.628842 -1.629323 -1.629196 -1.629143 -1.629882\n",
      " [15] -1.628699 -1.629161 -1.628866 -1.629687 -1.629568 -1.628761 -1.629019\n",
      " [22] -1.629536 -1.629358 -1.629160 -1.629697 -1.629240 -1.629105 -1.628851\n",
      " [29] -1.629168 -1.629721 -1.629077 -1.629297 -1.629361 -1.628857 -1.629111\n",
      " [36] -1.628927 -1.628645 -1.629483 -1.629559 -1.629913 -1.628668 -1.629288\n",
      " [43] -1.628570 -1.629375 -1.629349 -1.628596 -1.629552 -1.629295 -1.629046\n",
      " [50] -1.629187 -1.628946 -1.629144 -1.629342 -1.629073 -1.628971 -1.629703\n",
      " [57] -1.629482 -1.629452 -1.629343 -1.628999 -1.629540 -1.629218 -1.629151\n",
      " [64] -1.629628 -1.629498 -1.628988 -1.629308 -1.629279 -1.629515 -1.628924\n",
      " [71] -1.628956 -1.628778 -1.629138 -1.628783 -1.629759 -1.629007 -1.629339\n",
      " [78] -1.629622 -1.629715 -1.629036 -1.629596 -1.629765 -1.628486 -1.629274\n",
      " [85] -1.629355 -1.629256 -1.629152 -1.628877 -1.628883 -1.628885 -1.629567\n",
      " [92] -1.629497 -1.629134 -1.629083 -1.629092 -1.629030 -1.628829 -1.629340\n",
      " [99] -1.629490 -1.628990\n",
      "[1] \"variance:\"\n",
      "[1] 1.154382e-07\n",
      "[1] \"Param x3:\"\n",
      "  [1]  3.071407e-04 -4.787245e-04  1.779192e-04  1.508475e-05 -3.677200e-05\n",
      "  [6] -1.334951e-04  5.074520e-05 -2.519199e-04 -1.678438e-04  1.002731e-04\n",
      " [11]  8.795325e-04 -1.543736e-04  1.315744e-03  6.049001e-04 -4.419758e-04\n",
      " [16]  4.807824e-04 -1.094112e-04  4.466871e-04  3.473804e-04  6.070319e-04\n",
      " [21]  1.707678e-04 -3.521809e-04 -1.587333e-04  5.536547e-04  3.702354e-04\n",
      " [26]  4.950714e-04 -2.489766e-04 -3.458362e-04  1.144975e-03 -2.381178e-04\n",
      " [31] -3.385484e-04 -2.670277e-04  3.472924e-04 -6.348583e-04  2.305529e-04\n",
      " [36] -1.664211e-04 -6.735368e-04  8.536390e-05  1.084987e-04 -5.746347e-05\n",
      " [41]  2.569379e-04  1.566899e-04  5.011655e-04 -2.834662e-04  3.136091e-05\n",
      " [46]  4.226692e-04  4.227595e-04  4.373384e-05 -3.628905e-04  2.757163e-04\n",
      " [51]  5.851947e-04 -8.746933e-05 -6.987888e-05  2.929783e-04  2.173666e-04\n",
      " [56] -1.367983e-04 -4.806929e-04  2.908828e-04 -2.558059e-04 -3.147605e-04\n",
      " [61]  2.695510e-04 -5.551609e-04  3.412397e-04 -1.835773e-04  1.587023e-04\n",
      " [66]  5.301866e-04  1.969475e-04  2.751059e-04 -1.039550e-03 -4.511527e-04\n",
      " [71]  1.768931e-04 -3.775562e-05  3.323157e-04 -1.943849e-04  5.303478e-04\n",
      " [76] -4.626630e-04  4.248001e-04  3.592345e-04  2.440909e-05 -1.596450e-04\n",
      " [81] -3.348496e-04 -1.955202e-04  2.941018e-04  5.105268e-04 -9.741556e-05\n",
      " [86] -3.149578e-04  3.131968e-04  1.677553e-04  1.632167e-04  1.270444e-04\n",
      " [91]  6.011788e-04 -7.028404e-05  1.664369e-04 -4.400456e-04 -3.371965e-04\n",
      " [96] -5.360757e-04  2.365477e-04 -6.369370e-06  5.850315e-04 -6.149832e-04\n",
      "[1] \"variance:\"\n",
      "[1] 1.576488e-07\n",
      "[1] \"These are unbiased estimators. Their variances are almost identical to zero, inidicating that there is no \\nbias.\"\n"
     ]
    }
   ],
   "source": [
    "print('Param Intercept:')\n",
    "print(intercept)\n",
    "print('variance:')\n",
    "print(var(intercept))\n",
    "\n",
    "\n",
    "\n",
    "print('Param x1:')\n",
    "print(x1)\n",
    "print('variance:')\n",
    "print(var(x1))\n",
    "\n",
    "\n",
    "print('Param x2:')\n",
    "print(x2)\n",
    "print('variance:')\n",
    "print(var(x2))\n",
    "\n",
    "print('Param x3:')\n",
    "print(x3)\n",
    "print('variance:')\n",
    "print(var(x3))\n",
    "\n",
    "print('These are unbiased estimators. Their variances are almost identical to zero, inidicating that there is no \n",
    "bias.')"
   ]
  },
  {
   "cell_type": "markdown",
   "metadata": {},
   "source": [
    "2.Now fit a multiple linear regression and obtain the regression parameter estimates along with their variances from each simulation. Again check the unbiasedness and the variances. Compare the results with step 1."
   ]
  },
  {
   "cell_type": "code",
   "execution_count": null,
   "metadata": {},
   "outputs": [],
   "source": [
    "# fit <- lm(y ~ x1 + x2 + x3, data=mydata)"
   ]
  },
  {
   "cell_type": "markdown",
   "metadata": {},
   "source": [
    "3. Now assume X1 and X2 are correlated. You can select a value for correlation (e.g., r12 = 0.2). Then add the following covariance terms in the sigmat matrix,"
   ]
  },
  {
   "cell_type": "code",
   "execution_count": 9,
   "metadata": {},
   "outputs": [
    {
     "data": {
      "text/html": [
       "0.336824851739876"
      ],
      "text/latex": [
       "0.336824851739876"
      ],
      "text/markdown": [
       "0.336824851739876"
      ],
      "text/plain": [
       "[1] 0.3368249"
      ]
     },
     "metadata": {},
     "output_type": "display_data"
    }
   ],
   "source": [
    "## The correlation ##\n",
    "r12 <- 0.2\n",
    "sigmat[1,2] <- sigmat[2,1] <- r12*sqrt(sigmat[1,1])*sqrt(sigmat[2,2])\n",
    "\n",
    "## Simulation for Categorical Variables with Interaction ##\n",
    "set.seed(1002656486)\n",
    "X <- mvrnorm(nsample, mu = muvec, Sigma = sigmat)\n",
    "cor(X[,1], X[,2])\n",
    "Xmat <- cbind(1, X)"
   ]
  },
  {
   "cell_type": "markdown",
   "metadata": {},
   "source": [
    "Again run simple linear regressions on each of the predictors and also a multiple linear re- gression. Compare the results with step 1 and 2 and comment on the differences/similarities between the results. Start increasing the value of the correlation coefficient r12, (e.g., 0.5, 0.7, 0.8 etc.) and again perform step 1 and 2. How do the estimates and standard error of β1 and β2 change for simple and multiple linear regressions as the correlation changes?"
   ]
  },
  {
   "cell_type": "code",
   "execution_count": null,
   "metadata": {},
   "outputs": [],
   "source": [
    "## confusion in the highest order."
   ]
  },
  {
   "cell_type": "markdown",
   "metadata": {},
   "source": [
    "4.Now assume X1 and X2 are uncorrelated, i.e., r12 = 0 and sigmat[1,2] = sigmat[2,1] = 0. Instead X1 and X3 are correlated. Select a value for r13 arbitrarily (e.g., r13 = 0.5). Now change the values of sigma[1,3] and sigmat[3,1] using similar codes as You can select a value for correlation (e.g., r13 = 0.5). Recall, that the true β3 = 0. Againperform step 1 and 2. Compare the results with the results obtained from step 3 and comment on the differences/similarities. Start increasing the value of the correlation coefficient r13, (e.g., 0.5, 0.7, 0.8, 0.9, 0.95 etc.). How do the estimates and standard error of β1 and β2 change for simple and multiple linear regression as the correlation changes?"
   ]
  },
  {
   "cell_type": "markdown",
   "metadata": {},
   "source": [
    "## Task 2 ##"
   ]
  },
  {
   "cell_type": "markdown",
   "metadata": {},
   "source": [
    "1.Please set your student ID as seed. Generate 500 random values from X1 ∼ Uniform[0, 1], X2 ∼ Uniform[0, 1], X3 ∼ Uniform[0, 1], X4 ∼ Uniform[0, 1], X5 ∼ Uniform[0, 1]"
   ]
  },
  {
   "cell_type": "code",
   "execution_count": null,
   "metadata": {},
   "outputs": [],
   "source": []
  },
  {
   "cell_type": "markdown",
   "metadata": {},
   "source": [
    "Generate, Y = 4[sin(πx1x2) + 8(x3 − 0.5)3 + 1.5x4 − x5 − 0.77] + ε. Here, π = 3.14..... and ε ∼ N(0, 1). You can use the following codes:"
   ]
  },
  {
   "cell_type": "code",
   "execution_count": 10,
   "metadata": {},
   "outputs": [],
   "source": [
    "# This following function provides a data set with p+1 columns #\n",
    "gendata <- function(n, p){\n",
    "    Xmat <- matrix(runif(n*p, 0, 1), nrow = n, ncol = p)\n",
    "    Y <- 4*( (sin(pi*Xmat[,1]*Xmat[,2])) + 8*(Xmat[,3] - 0.5)^3 + 1.5*Xmat[,4] - Xmat[,5] - 0.77) + rnorm(n, 0, 1)\n",
    "    dat <- cbind(Xmat, Y)\n",
    "    return(dat)\n",
    "}\n",
    "\n",
    "set.seed(1003998757)\n",
    "dat <- gendata(500, 5)"
   ]
  },
  {
   "cell_type": "markdown",
   "metadata": {},
   "source": [
    "1. In real life data we don’t know the true relationship between the response and predictors. The only thing we have is the dataset dat. Perform a multiple regression analysis on the response Y with the 5 predictors in the dataset. Check all the diagnostics (leverages, influential observations, standardized residuals etc.). Comment on your findings.The simulation here needs to be done only once."
   ]
  },
  {
   "cell_type": "code",
   "execution_count": null,
   "metadata": {},
   "outputs": [],
   "source": []
  },
  {
   "cell_type": "markdown",
   "metadata": {},
   "source": [
    "2. Simulate further 200 observations using gendata using the following code,"
   ]
  },
  {
   "cell_type": "code",
   "execution_count": 23,
   "metadata": {},
   "outputs": [
    {
     "ename": "ERROR",
     "evalue": "Error in gendata(200, 5): impossible de trouver la fonction \"gendata\"\n",
     "output_type": "error",
     "traceback": [
      "Error in gendata(200, 5): impossible de trouver la fonction \"gendata\"\nTraceback:\n"
     ]
    }
   ],
   "source": [
    "dat.new <- gendata(200, 5)"
   ]
  },
  {
   "cell_type": "markdown",
   "metadata": {},
   "source": [
    "    Using the results obtained from step 1 calculate the mean prediction error of the new dataset."
   ]
  },
  {
   "cell_type": "markdown",
   "metadata": {},
   "source": [
    "3. Apply appropriate transformations (whatever transformation you think will help). Perform step 1 and 2 again. Explain your findings."
   ]
  },
  {
   "cell_type": "code",
   "execution_count": null,
   "metadata": {},
   "outputs": [],
   "source": []
  }
 ],
 "metadata": {
  "kernelspec": {
   "display_name": "R",
   "language": "R",
   "name": "ir"
  },
  "language_info": {
   "codemirror_mode": "r",
   "file_extension": ".r",
   "mimetype": "text/x-r-source",
   "name": "R",
   "pygments_lexer": "r",
   "version": "3.6.0"
  }
 },
 "nbformat": 4,
 "nbformat_minor": 2
}
