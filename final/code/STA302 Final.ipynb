{
 "cells": [
  {
   "cell_type": "markdown",
   "metadata": {},
   "source": [
    "## STA302 Final Project ##"
   ]
  },
  {
   "cell_type": "code",
   "execution_count": 47,
   "metadata": {},
   "outputs": [],
   "source": [
    "library(UsingR)\n",
    "library(scatterplot3d)\n",
    "library(xtable)\n",
    "library(car)\n",
    "library(Matrix)\n",
    "library(MPV)\n",
    "\n"
   ]
  },
  {
   "cell_type": "code",
   "execution_count": 48,
   "metadata": {},
   "outputs": [
    {
     "data": {
      "text/html": [
       "400"
      ],
      "text/latex": [
       "400"
      ],
      "text/markdown": [
       "400"
      ],
      "text/plain": [
       "[1] 400"
      ]
     },
     "metadata": {},
     "output_type": "display_data"
    }
   ],
   "source": [
    "rm(list = ls())\n",
    "# setwd(\"~/Dropbox/UofT Admin and TA/STA 302/Lectures/Final Project\")\n",
    "\n",
    "\n",
    "library(NHANES)\n",
    "library(tidyverse)\n",
    "library(glmnet)\n",
    "library(rms)\n",
    "\n",
    "small.nhanes <- na.omit(NHANES[NHANES$SurveyYr==\"2011_12\"\n",
    "                               & NHANES$Age > 17,c(1,3,4,8:11,13,17,20,21,25,46,50,51,52,61)])\n",
    "small.nhanes <- as.data.frame(small.nhanes %>%\n",
    "  group_by(ID) %>% filter(row_number()==1) )\n",
    "# nrow(small.nhanes)\n",
    "\n",
    "## Checking whether there are any ID that was repeated. If not ##\n",
    "## then length(unique(small.nhanes$ID)) and nrow(small.nhanes) are same ##\n",
    "# length(unique(small.nhanes$ID))\n",
    "\n",
    "## Create training and test set ##\n",
    "set.seed(1003998757)\n",
    "train <- small.nhanes[sample(seq_len(nrow(small.nhanes)), size = 400),]\n",
    "# nrow(train)\n",
    "length(which(small.nhanes$ID %in% train$ID))\n",
    "test <- small.nhanes[!small.nhanes$ID %in% train$ID,]\n",
    "# nrow(test)"
   ]
  },
  {
   "cell_type": "markdown",
   "metadata": {},
   "source": [
    "not limited to):\n",
    "• Model Diagnostics\n",
    "• Checking for the variance inflation factor (VIF)\n",
    "• Variable selection ---> model selection\n",
    "• Shrinkage methods ---> LASSO \n",
    "• Model Validation\n",
    "\n",
    "\n",
    "• Checking the prediction error on the test set after applying various model selection techniques\n",
    "• After selecting the best model interpret and explain the parameter estimates\n",
    "• Conclude on the effect of predictors on the combined systolic blood pressure readin"
   ]
  },
  {
   "cell_type": "code",
   "execution_count": 49,
   "metadata": {},
   "outputs": [
    {
     "data": {
      "text/plain": [
       "\n",
       "Call:\n",
       "lm(formula = BPSysAve ~ ., data = train[, -c(1)])\n",
       "\n",
       "Residuals:\n",
       "    Min      1Q  Median      3Q     Max \n",
       "-36.653 -10.108  -1.269   9.552  69.049 \n",
       "\n",
       "Coefficients:\n",
       "                           Estimate Std. Error t value Pr(>|t|)    \n",
       "(Intercept)               195.31152   67.12715   2.910  0.00384 ** \n",
       "Gendermale                  4.06058    2.43465   1.668  0.09621 .  \n",
       "Age                         0.53846    0.06484   8.304 2.03e-15 ***\n",
       "Race3Black                  7.48535    5.73519   1.305  0.19267    \n",
       "Race3Hispanic               4.06378    6.16467   0.659  0.51018    \n",
       "Race3Mexican                3.55583    5.89748   0.603  0.54693    \n",
       "Race3White                  0.97877    5.25457   0.186  0.85234    \n",
       "Race3Other                 -3.18834    6.83469  -0.466  0.64114    \n",
       "Education9 - 11th Grade     1.50893    3.77297   0.400  0.68944    \n",
       "EducationHigh School       -2.51853    3.52145  -0.715  0.47495    \n",
       "EducationSome College      -1.05749    3.58732  -0.295  0.76833    \n",
       "EducationCollege Grad      -4.40567    3.89833  -1.130  0.25916    \n",
       "MaritalStatusLivePartner    1.31940    3.60804   0.366  0.71481    \n",
       "MaritalStatusMarried       -2.21315    2.74940  -0.805  0.42137    \n",
       "MaritalStatusNeverMarried   3.24292    3.22324   1.006  0.31504    \n",
       "MaritalStatusSeparated     -1.02497    7.24829  -0.141  0.88763    \n",
       "MaritalStatusWidowed       -3.07493    3.94627  -0.779  0.43637    \n",
       "HHIncome 5000-9999         -6.46264    6.74530  -0.958  0.33865    \n",
       "HHIncome10000-14999        -1.25255    5.78241  -0.217  0.82863    \n",
       "HHIncome15000-19999        -8.50896    5.80043  -1.467  0.14326    \n",
       "HHIncome20000-24999        -5.16747    5.76484  -0.896  0.37065    \n",
       "HHIncome25000-34999        -3.28572    5.73029  -0.573  0.56673    \n",
       "HHIncome35000-44999        -2.75209    6.04662  -0.455  0.64928    \n",
       "HHIncome45000-54999        -3.02759    6.48843  -0.467  0.64106    \n",
       "HHIncome55000-64999        -5.12037    7.33485  -0.698  0.48557    \n",
       "HHIncome65000-74999         3.78844    7.36127   0.515  0.60711    \n",
       "HHIncome75000-99999         2.91783    7.38259   0.395  0.69290    \n",
       "HHIncomemore 99999          7.53234    7.35382   1.024  0.30639    \n",
       "Poverty                    -2.84184    1.20379  -2.361  0.01877 *  \n",
       "Weight                      0.45468    0.39380   1.155  0.24902    \n",
       "Height                     -0.56868    0.39836  -1.428  0.15428    \n",
       "BMI                        -1.17418    1.12786  -1.041  0.29854    \n",
       "DepressedSeveral           -0.36250    2.25007  -0.161  0.87210    \n",
       "DepressedMost               0.69789    3.08241   0.226  0.82101    \n",
       "SleepHrsNight               0.15702    0.63195   0.248  0.80391    \n",
       "SleepTroubleYes            -1.39790    1.86905  -0.748  0.45499    \n",
       "PhysActiveYes               0.68789    1.84195   0.373  0.70903    \n",
       "SmokeNowYes                -0.45108    1.89952  -0.237  0.81243    \n",
       "---\n",
       "Signif. codes:  0 ‘***’ 0.001 ‘**’ 0.01 ‘*’ 0.05 ‘.’ 0.1 ‘ ’ 1\n",
       "\n",
       "Residual standard error: 15.98 on 362 degrees of freedom\n",
       "Multiple R-squared:  0.282,\tAdjusted R-squared:  0.2086 \n",
       "F-statistic: 3.842 on 37 and 362 DF,  p-value: 1.475e-11\n"
      ]
     },
     "metadata": {},
     "output_type": "display_data"
    }
   ],
   "source": [
    "## Running the model ##\n",
    "### First fit a multiple linear regression ##\n",
    "model.lm <- lm( BPSysAve ~ ., data = train[, -c(1)])\n",
    "summary(model.lm)"
   ]
  },
  {
   "cell_type": "markdown",
   "metadata": {},
   "source": [
    "## Model Diagnostics ##"
   ]
  },
  {
   "cell_type": "code",
   "execution_count": 50,
   "metadata": {},
   "outputs": [],
   "source": [
    "## Model Diagnostics ##"
   ]
  },
  {
   "cell_type": "markdown",
   "metadata": {},
   "source": [
    "## VIF ##"
   ]
  },
  {
   "cell_type": "code",
   "execution_count": null,
   "metadata": {},
   "outputs": [],
   "source": []
  },
  {
   "cell_type": "markdown",
   "metadata": {},
   "source": [
    "## Variable Selection (Model Selection) ##"
   ]
  },
  {
   "cell_type": "code",
   "execution_count": 51,
   "metadata": {},
   "outputs": [],
   "source": [
    "## Model selection criteria ##\n",
    "criteria <- function(model){\n",
    "    n <- length(model$residuals)\n",
    "    p <- length(model$coefficients) - 1\n",
    "    RSS <- sum(model$residuals^2)\n",
    "    R2 <- summary(model)$r.squared\n",
    "    R2.adj <- summary(model)$adj.r.squared\n",
    "    AIC <- n*log(RSS/n) + 2*p\n",
    "    AICc <- AIC + (2*(p+2)*(p+3))/(n-p-1)\n",
    "    BIC <- n*log(RSS/n) + (p+2)*log(n)\n",
    "    res <- c(R2, R2.adj, AIC, AICc, BIC)\n",
    "    names(res) <- c(\"R Squared\", \"Adjsuted R Squared\", \"AIC\", \"AICc\", \"BIC\")\n",
    "    return(res)\n",
    "}"
   ]
  },
  {
   "cell_type": "code",
   "execution_count": 52,
   "metadata": {},
   "outputs": [
    {
     "ename": "ERROR",
     "evalue": "Error in is.data.frame(data): objet 'def' introuvable\n",
     "output_type": "error",
     "traceback": [
      "Error in is.data.frame(data): objet 'def' introuvable\nTraceback:\n",
      "1. lm(I(sqrt(Defective)) ~ Temperature + Density + Rate, data = def)",
      "2. eval(mf, parent.frame())",
      "3. eval(mf, parent.frame())",
      "4. stats::model.frame(formula = I(sqrt(Defective)) ~ Temperature + \n .     Density + Rate, data = def, drop.unused.levels = TRUE)",
      "5. model.frame.default(formula = I(sqrt(Defective)) ~ Temperature + \n .     Density + Rate, data = def, drop.unused.levels = TRUE)",
      "6. is.data.frame(data)"
     ]
    }
   ],
   "source": [
    "\n",
    "## The crteria ##\n",
    "## model 1 ##\n",
    "model.1 <- lm(I(sqrt(Defective)) ~ Temperature + Density + Rate, data = def)\n",
    "crit1 <- criteria(model = model.1)\n",
    "\n",
    "## model 2 ##\n",
    "model.2 <- lm(I(sqrt(Defective)) ~ Temperature , data = def)\n",
    "crit2 <- criteria(model = model.2)\n",
    "\n",
    "## model 3 ##\n",
    "model.3 <- lm(I(sqrt(Defective)) ~ Rate , data = def)\n",
    "crit3 <- criteria(model = model.3)\n",
    "\n",
    "## model 4 ##\n",
    "model.4 <- lm(I(sqrt(Defective)) ~ Density , data = def)\n",
    "crit4 <- criteria(model = model.4)\n",
    "\n",
    "## model 5 ##\n",
    "model.5 <- lm(I(sqrt(Defective)) ~ Temperature + Density , data = def)\n",
    "crit5 <- criteria(model = model.5)\n",
    "\n",
    "## model 6 ##\n",
    "model.6 <- lm(I(sqrt(Defective)) ~ Temperature + Rate , data = def)\n",
    "crit6 <- criteria(model = model.6)\n",
    "\n",
    "## model 7 ##\n",
    "model.7 <- lm(I(sqrt(Defective)) ~ Density + Rate , data = def)\n",
    "crit7 <- criteria(model = model.7)\n",
    "\n",
    "## model 8 ##\n",
    "model.8 <- lm(I(sqrt(Defective)) ~ 1 , data = def)\n",
    "crit8 <- criteria(model = model.8)\n"
   ]
  },
  {
   "cell_type": "markdown",
   "metadata": {},
   "source": [
    "## Srinkage Methods ##"
   ]
  },
  {
   "cell_type": "code",
   "execution_count": 57,
   "metadata": {},
   "outputs": [
    {
     "data": {
      "text/html": [
       "252.712631140435"
      ],
      "text/latex": [
       "252.712631140435"
      ],
      "text/markdown": [
       "252.712631140435"
      ],
      "text/plain": [
       "[1] 252.7126"
      ]
     },
     "metadata": {},
     "output_type": "display_data"
    },
    {
     "data": {
      "text/html": [
       "276.845726033403"
      ],
      "text/latex": [
       "276.845726033403"
      ],
      "text/markdown": [
       "276.845726033403"
      ],
      "text/plain": [
       "[1] 276.8457"
      ]
     },
     "metadata": {},
     "output_type": "display_data"
    },
    {
     "data": {
      "text/html": [
       "252.178500929592"
      ],
      "text/latex": [
       "252.178500929592"
      ],
      "text/markdown": [
       "252.178500929592"
      ],
      "text/plain": [
       "[1] 252.1785"
      ]
     },
     "metadata": {},
     "output_type": "display_data"
    }
   ],
   "source": [
    "# ## Perform Prediction ##\n",
    "pred.y <- predict(model.lm, newdata = test, type = \"response\")\n",
    "\n",
    "# ## Prediction error ##\n",
    "mean((test$BPSysAve - pred.y)^2)\n",
    "\n",
    "## Fit a ridge penalty ##\n",
    "model.ridge <- glmnet(x = model.matrix( ~ ., data = train[,-c(1,12)]), y = train$BPSysAve, \n",
    "                      standardize = T, alpha = 0)\n",
    "\n",
    "# ## Perform Prediction ##\n",
    "pred.y.ridge <- predict(model.ridge, newx = model.matrix( ~ ., data = test[,-c(1,12)]), type = \"response\")\n",
    "\n",
    "# ## Prediction error ##\n",
    "mean((test$BPSysAve - pred.y.ridge)^2)\n",
    "\n",
    "\n",
    "# ## Fit a LASSO penalty ## --> shrinkage method \n",
    "model.lasso <- glmnet(x = model.matrix( ~ ., data = train[,-c(1,12)]), y = train$BPSysAve\n",
    "                      , standardize = T, alpha = 1)\n",
    "\n",
    "# ## Perform Prediction ##\n",
    "pred.y.lasso <- predict(model.lasso, newx = model.matrix( ~ ., data = test[,-c(1,12)]), type = \"response\")\n",
    "# ## Prediction error ##\n",
    "mean((test$BPSysAve - pred.y.lasso)^2)\n"
   ]
  },
  {
   "cell_type": "code",
   "execution_count": 70,
   "metadata": {},
   "outputs": [],
   "source": [
    "## Elastic net ##\n",
    "\n",
    "model.EN <- glmnet(x = data.matrix(train[,2:9]), y = train$BPSysAve, standardize = T, alpha = 0.5)\n",
    "\n",
    "# ## Perform Prediction ##\n",
    "pred.y.EN <- predict(model.EN, newx = data.matrix(test[,2:9]), type = \"response\")"
   ]
  },
  {
   "cell_type": "markdown",
   "metadata": {},
   "source": [
    "## Model Validation ##"
   ]
  },
  {
   "cell_type": "code",
   "execution_count": 71,
   "metadata": {},
   "outputs": [
    {
     "data": {
      "text/html": [
       "4.2089653615125"
      ],
      "text/latex": [
       "4.2089653615125"
      ],
      "text/markdown": [
       "4.2089653615125"
      ],
      "text/plain": [
       "[1] 4.208965"
      ]
     },
     "metadata": {},
     "output_type": "display_data"
    },
    {
     "data": {
      "image/png": "[encoded data removed]",
      "text/plain": [
       "plot without title"
      ]
     },
     "metadata": {
      "image/png": {
       "height": 420,
       "width": 420
      },
      "text/plain": {
       "height": 420,
       "width": 420
      }
     },
     "output_type": "display_data"
    }
   ],
   "source": [
    "## Perform cross validation to choose lambda ##\n",
    "# set.seed(1002656486)\n",
    "cv.out <- cv.glmnet(x = data.matrix(train[,2:9]), y = train$BPSysAve, standardize = T, alpha = 1)\n",
    "plot(cv.out)\n",
    "best.lambda <- cv.out$lambda.1se\n",
    "best.lambda\n",
    "co<-coef(cv.out, s = \"lambda.1se\")"
   ]
  },
  {
   "cell_type": "code",
   "execution_count": 72,
   "metadata": {},
   "outputs": [
    {
     "data": {
      "text/html": [
       "'Age'"
      ],
      "text/latex": [
       "'Age'"
      ],
      "text/markdown": [
       "'Age'"
      ],
      "text/plain": [
       "[1] \"Age\""
      ]
     },
     "metadata": {},
     "output_type": "display_data"
    }
   ],
   "source": [
    "## threfvshold for variable selection ##\n",
    "\n",
    "thresh <- 0.00\n",
    "# select variables #\n",
    "inds<-which(abs(co) > thresh )\n",
    "variables<-row.names(co)[inds]\n",
    "sel.var.lasso<-variables[!(variables %in% '(Intercept)')]\n",
    "sel.var.lasso\n"
   ]
  },
  {
   "cell_type": "code",
   "execution_count": 77,
   "metadata": {},
   "outputs": [
    {
     "data": {
      "text/plain": [
       "\n",
       "Call:\n",
       "lm(formula = BPSysAve ~ ., data = train[, -c(1)])\n",
       "\n",
       "Residuals:\n",
       "    Min      1Q  Median      3Q     Max \n",
       "-36.653 -10.108  -1.269   9.552  69.049 \n",
       "\n",
       "Coefficients:\n",
       "                           Estimate Std. Error t value Pr(>|t|)    \n",
       "(Intercept)               195.31152   67.12715   2.910  0.00384 ** \n",
       "Gendermale                  4.06058    2.43465   1.668  0.09621 .  \n",
       "Age                         0.53846    0.06484   8.304 2.03e-15 ***\n",
       "Race3Black                  7.48535    5.73519   1.305  0.19267    \n",
       "Race3Hispanic               4.06378    6.16467   0.659  0.51018    \n",
       "Race3Mexican                3.55583    5.89748   0.603  0.54693    \n",
       "Race3White                  0.97877    5.25457   0.186  0.85234    \n",
       "Race3Other                 -3.18834    6.83469  -0.466  0.64114    \n",
       "Education9 - 11th Grade     1.50893    3.77297   0.400  0.68944    \n",
       "EducationHigh School       -2.51853    3.52145  -0.715  0.47495    \n",
       "EducationSome College      -1.05749    3.58732  -0.295  0.76833    \n",
       "EducationCollege Grad      -4.40567    3.89833  -1.130  0.25916    \n",
       "MaritalStatusLivePartner    1.31940    3.60804   0.366  0.71481    \n",
       "MaritalStatusMarried       -2.21315    2.74940  -0.805  0.42137    \n",
       "MaritalStatusNeverMarried   3.24292    3.22324   1.006  0.31504    \n",
       "MaritalStatusSeparated     -1.02497    7.24829  -0.141  0.88763    \n",
       "MaritalStatusWidowed       -3.07493    3.94627  -0.779  0.43637    \n",
       "HHIncome 5000-9999         -6.46264    6.74530  -0.958  0.33865    \n",
       "HHIncome10000-14999        -1.25255    5.78241  -0.217  0.82863    \n",
       "HHIncome15000-19999        -8.50896    5.80043  -1.467  0.14326    \n",
       "HHIncome20000-24999        -5.16747    5.76484  -0.896  0.37065    \n",
       "HHIncome25000-34999        -3.28572    5.73029  -0.573  0.56673    \n",
       "HHIncome35000-44999        -2.75209    6.04662  -0.455  0.64928    \n",
       "HHIncome45000-54999        -3.02759    6.48843  -0.467  0.64106    \n",
       "HHIncome55000-64999        -5.12037    7.33485  -0.698  0.48557    \n",
       "HHIncome65000-74999         3.78844    7.36127   0.515  0.60711    \n",
       "HHIncome75000-99999         2.91783    7.38259   0.395  0.69290    \n",
       "HHIncomemore 99999          7.53234    7.35382   1.024  0.30639    \n",
       "Poverty                    -2.84184    1.20379  -2.361  0.01877 *  \n",
       "Weight                      0.45468    0.39380   1.155  0.24902    \n",
       "Height                     -0.56868    0.39836  -1.428  0.15428    \n",
       "BMI                        -1.17418    1.12786  -1.041  0.29854    \n",
       "DepressedSeveral           -0.36250    2.25007  -0.161  0.87210    \n",
       "DepressedMost               0.69789    3.08241   0.226  0.82101    \n",
       "SleepHrsNight               0.15702    0.63195   0.248  0.80391    \n",
       "SleepTroubleYes            -1.39790    1.86905  -0.748  0.45499    \n",
       "PhysActiveYes               0.68789    1.84195   0.373  0.70903    \n",
       "SmokeNowYes                -0.45108    1.89952  -0.237  0.81243    \n",
       "---\n",
       "Signif. codes:  0 ‘***’ 0.001 ‘**’ 0.01 ‘*’ 0.05 ‘.’ 0.1 ‘ ’ 1\n",
       "\n",
       "Residual standard error: 15.98 on 362 degrees of freedom\n",
       "Multiple R-squared:  0.282,\tAdjusted R-squared:  0.2086 \n",
       "F-statistic: 3.842 on 37 and 362 DF,  p-value: 1.475e-11\n"
      ]
     },
     "metadata": {},
     "output_type": "display_data"
    },
    {
     "data": {
      "text/html": [
       "<style>\n",
       ".list-inline {list-style: none; margin:0; padding: 0}\n",
       ".list-inline>li {display: inline-block}\n",
       ".list-inline>li:not(:last-child)::after {content: \"\\00b7\"; padding: 0 .5ex}\n",
       "</style>\n",
       "<ol class=list-inline><li>'Gender'</li><li>'Age'</li><li>'Poverty'</li><li>'Height'</li></ol>\n"
      ],
      "text/latex": [
       "\\begin{enumerate*}\n",
       "\\item 'Gender'\n",
       "\\item 'Age'\n",
       "\\item 'Poverty'\n",
       "\\item 'Height'\n",
       "\\end{enumerate*}\n"
      ],
      "text/markdown": [
       "1. 'Gender'\n",
       "2. 'Age'\n",
       "3. 'Poverty'\n",
       "4. 'Height'\n",
       "\n",
       "\n"
      ],
      "text/plain": [
       "[1] \"Gender\"  \"Age\"     \"Poverty\" \"Height\" "
      ]
     },
     "metadata": {},
     "output_type": "display_data"
    }
   ],
   "source": [
    "## Step wise regression ###\n",
    "\n",
    "### First fit a multiple linear regression ##\n",
    "## Based on AIC ##\n",
    "# model.lm <- lm(lpsa ~ ., data = train[, -c(1)])\n",
    "summary(model.lm)  \n",
    "n <- nrow(train)\n",
    "sel.var.aic <- step(model.lm, trace = 0, k = 2, direction = \"both\") \n",
    "sel.var.aic<-attr(terms(sel.var.aic), \"term.labels\")   \n",
    "sel.var.aic\n",
    "\n",
    "\n",
    "\n"
   ]
  },
  {
   "cell_type": "code",
   "execution_count": 80,
   "metadata": {},
   "outputs": [
    {
     "data": {
      "text/plain": [
       "\n",
       "Call:\n",
       "lm(formula = BPSysAve ~ ., data = train[, -c(1)])\n",
       "\n",
       "Residuals:\n",
       "    Min      1Q  Median      3Q     Max \n",
       "-36.653 -10.108  -1.269   9.552  69.049 \n",
       "\n",
       "Coefficients:\n",
       "                           Estimate Std. Error t value Pr(>|t|)    \n",
       "(Intercept)               195.31152   67.12715   2.910  0.00384 ** \n",
       "Gendermale                  4.06058    2.43465   1.668  0.09621 .  \n",
       "Age                         0.53846    0.06484   8.304 2.03e-15 ***\n",
       "Race3Black                  7.48535    5.73519   1.305  0.19267    \n",
       "Race3Hispanic               4.06378    6.16467   0.659  0.51018    \n",
       "Race3Mexican                3.55583    5.89748   0.603  0.54693    \n",
       "Race3White                  0.97877    5.25457   0.186  0.85234    \n",
       "Race3Other                 -3.18834    6.83469  -0.466  0.64114    \n",
       "Education9 - 11th Grade     1.50893    3.77297   0.400  0.68944    \n",
       "EducationHigh School       -2.51853    3.52145  -0.715  0.47495    \n",
       "EducationSome College      -1.05749    3.58732  -0.295  0.76833    \n",
       "EducationCollege Grad      -4.40567    3.89833  -1.130  0.25916    \n",
       "MaritalStatusLivePartner    1.31940    3.60804   0.366  0.71481    \n",
       "MaritalStatusMarried       -2.21315    2.74940  -0.805  0.42137    \n",
       "MaritalStatusNeverMarried   3.24292    3.22324   1.006  0.31504    \n",
       "MaritalStatusSeparated     -1.02497    7.24829  -0.141  0.88763    \n",
       "MaritalStatusWidowed       -3.07493    3.94627  -0.779  0.43637    \n",
       "HHIncome 5000-9999         -6.46264    6.74530  -0.958  0.33865    \n",
       "HHIncome10000-14999        -1.25255    5.78241  -0.217  0.82863    \n",
       "HHIncome15000-19999        -8.50896    5.80043  -1.467  0.14326    \n",
       "HHIncome20000-24999        -5.16747    5.76484  -0.896  0.37065    \n",
       "HHIncome25000-34999        -3.28572    5.73029  -0.573  0.56673    \n",
       "HHIncome35000-44999        -2.75209    6.04662  -0.455  0.64928    \n",
       "HHIncome45000-54999        -3.02759    6.48843  -0.467  0.64106    \n",
       "HHIncome55000-64999        -5.12037    7.33485  -0.698  0.48557    \n",
       "HHIncome65000-74999         3.78844    7.36127   0.515  0.60711    \n",
       "HHIncome75000-99999         2.91783    7.38259   0.395  0.69290    \n",
       "HHIncomemore 99999          7.53234    7.35382   1.024  0.30639    \n",
       "Poverty                    -2.84184    1.20379  -2.361  0.01877 *  \n",
       "Weight                      0.45468    0.39380   1.155  0.24902    \n",
       "Height                     -0.56868    0.39836  -1.428  0.15428    \n",
       "BMI                        -1.17418    1.12786  -1.041  0.29854    \n",
       "DepressedSeveral           -0.36250    2.25007  -0.161  0.87210    \n",
       "DepressedMost               0.69789    3.08241   0.226  0.82101    \n",
       "SleepHrsNight               0.15702    0.63195   0.248  0.80391    \n",
       "SleepTroubleYes            -1.39790    1.86905  -0.748  0.45499    \n",
       "PhysActiveYes               0.68789    1.84195   0.373  0.70903    \n",
       "SmokeNowYes                -0.45108    1.89952  -0.237  0.81243    \n",
       "---\n",
       "Signif. codes:  0 ‘***’ 0.001 ‘**’ 0.01 ‘*’ 0.05 ‘.’ 0.1 ‘ ’ 1\n",
       "\n",
       "Residual standard error: 15.98 on 362 degrees of freedom\n",
       "Multiple R-squared:  0.282,\tAdjusted R-squared:  0.2086 \n",
       "F-statistic: 3.842 on 37 and 362 DF,  p-value: 1.475e-11\n"
      ]
     },
     "metadata": {},
     "output_type": "display_data"
    },
    {
     "data": {
      "text/html": [
       "'Age'"
      ],
      "text/latex": [
       "'Age'"
      ],
      "text/markdown": [
       "'Age'"
      ],
      "text/plain": [
       "[1] \"Age\""
      ]
     },
     "metadata": {},
     "output_type": "display_data"
    },
    {
     "name": "stdout",
     "output_type": "stream",
     "text": [
      "\n",
      "n=400   Mean absolute error=0.612   Mean squared error=0.53077\n",
      "0.9 Quantile of absolute error=0.997\n",
      "\n"
     ]
    },
    {
     "data": {
      "text/html": [
       "<strong>pdf:</strong> 2"
      ],
      "text/latex": [
       "\\textbf{pdf:} 2"
      ],
      "text/markdown": [
       "**pdf:** 2"
      ],
      "text/plain": [
       "pdf \n",
       "  2 "
      ]
     },
     "metadata": {},
     "output_type": "display_data"
    }
   ],
   "source": [
    "\n",
    "## Based on BIC ##\n",
    "# model.lm <- lm(lpsa ~ ., data = train[, -c(1)])\n",
    "summary(model.lm)  \n",
    "n <- nrow(train)\n",
    "sel.var.bic <- step(model.lm, trace = 0, k = log(n), direction = \"both\") \n",
    "sel.var.bic<-attr(terms(sel.var.bic), \"term.labels\")   \n",
    "sel.var.bic\n",
    "\n",
    "\n",
    "### Cross Validation and prediction performance of AIC based selection ###\n",
    "ols.aic <- ols(BPSysAve ~ ., data = train[,which(colnames(train) %in% c(sel.var.aic, \"BPSysAve\"))], \n",
    "               x=T, y=T, model = T)\n",
    "\n",
    "## 10 fold cross validation ##    \n",
    "aic.cross <- calibrate(ols.aic, method = \"crossvalidation\", B = 10)\n",
    "## Calibration plot ##\n",
    "pdf(\"aic_cross.pdf\", height = 8, width = 16)\n",
    "plot(aic.cross, las = 1, xlab = \"Predicted Probability\", main = \"Cross-Validation calibration with AIC\")\n",
    "dev.off()\n",
    "\n",
    "## Test Error ##\n",
    "pred.aic <- predict(ols.aic, newdata = test[,which(colnames(train) %in% c(sel.var.aic, \"BPSysAve\"))])\n",
    "## Prediction error ##\n",
    "pred.error.AIC <- mean((test$BPSysAve - pred.aic)^2)"
   ]
  },
  {
   "cell_type": "code",
   "execution_count": 75,
   "metadata": {},
   "outputs": [
    {
     "name": "stdout",
     "output_type": "stream",
     "text": [
      "\n",
      "n=400   Mean absolute error=1.428   Mean squared error=3.94738\n",
      "0.9 Quantile of absolute error=2.034\n",
      "\n"
     ]
    },
    {
     "data": {
      "text/html": [
       "<strong>pdf:</strong> 2"
      ],
      "text/latex": [
       "\\textbf{pdf:} 2"
      ],
      "text/markdown": [
       "**pdf:** 2"
      ],
      "text/plain": [
       "pdf \n",
       "  2 "
      ]
     },
     "metadata": {},
     "output_type": "display_data"
    },
    {
     "name": "stdout",
     "output_type": "stream",
     "text": [
      "\n",
      "n=400   Mean absolute error=1.297   Mean squared error=2.9988\n",
      "0.9 Quantile of absolute error=2.22\n",
      "\n"
     ]
    },
    {
     "data": {
      "text/html": [
       "<strong>pdf:</strong> 2"
      ],
      "text/latex": [
       "\\textbf{pdf:} 2"
      ],
      "text/markdown": [
       "**pdf:** 2"
      ],
      "text/plain": [
       "pdf \n",
       "  2 "
      ]
     },
     "metadata": {},
     "output_type": "display_data"
    },
    {
     "name": "stdout",
     "output_type": "stream",
     "text": [
      "[1] 240.0521 245.8945 245.8945\n"
     ]
    }
   ],
   "source": [
    "\n",
    "### Cross Validation and prediction performance of BIC based selection ###\n",
    "ols.bic <- ols(BPSysAve ~ ., data = train[,which(colnames(train) %in% c(sel.var.bic, \"BPSysAve\"))], \n",
    "               x=T, y=T, model = T)\n",
    "\n",
    "## 10 fold cross validation ##    \n",
    "bic.cross <- calibrate(ols.bic, method = \"crossvalidation\", B = 10)\n",
    "## Calibration plot ##\n",
    "pdf(\"bic_cross.pdf\", height = 8, width = 16)\n",
    "plot(bic.cross, las = 1, xlab = \"Predicted Probability\", main = \"Cross-Validation calibration with BIC\")\n",
    "dev.off()\n",
    "\n",
    "## Test Error ##\n",
    "pred.bic <- predict(ols.bic, newdata = test[,which(colnames(train) %in% c(sel.var.bic, \"BPSysAve\"))])\n",
    "## Prediction error ##\n",
    "pred.error.BIC <- mean((test$BPSysAve - pred.bic)^2)\n",
    "\n",
    "### Cross Validation and prediction performance of lasso based selection ###\n",
    "ols.lasso <- ols(BPSysAve ~ ., data = train[,which(colnames(train) %in% c(sel.var.lasso, \"BPSysAve\"))], \n",
    "                 x=T, y=T, model = T)\n",
    "\n",
    "## 10 fold cross validation ##    \n",
    "lasso.cross <- calibrate(ols.lasso, method = \"crossvalidation\", B = 10)\n",
    "## Calibration plot ##\n",
    "pdf(\"lasso_cross.pdf\", height = 8, width = 16)\n",
    "plot(lasso.cross, las = 1, xlab = \"Predicted Probability\", main = \"Cross-Validation calibration with LASSO\")\n",
    "dev.off()\n",
    "\n",
    "## Test Error ##\n",
    "pred.lasso <- predict(ols.lasso, newdata = test[,which(colnames(train) %in% c(sel.var.lasso, \"BPSysAve\"))])\n",
    "## Prediction error ##\n",
    "pred.error.lasso <- mean((test$BPSysAve - pred.lasso)^2)\n",
    "\n",
    "print(c(pred.error.AIC, pred.error.BIC, pred.error.lasso))\n"
   ]
  }
 ],
 "metadata": {
  "kernelspec": {
   "display_name": "R",
   "language": "R",
   "name": "ir"
  },
  "language_info": {
   "codemirror_mode": "r",
   "file_extension": ".r",
   "mimetype": "text/x-r-source",
   "name": "R",
   "pygments_lexer": "r",
   "version": "3.6.0"
  }
 },
 "nbformat": 4,
 "nbformat_minor": 2
}
