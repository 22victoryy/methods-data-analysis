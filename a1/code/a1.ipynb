{
 "cells": [
  {
   "cell_type": "markdown",
   "metadata": {},
   "source": [
    "1. Simulate the paramters using the following codes,"
   ]
  },
  {
   "cell_type": "code",
   "execution_count": 16,
   "metadata": {},
   "outputs": [],
   "source": [
    "## Simulation ##\n",
    "set.seed(1003998757)\n",
    "beta0 <- rnorm(1, mean = 0, sd = 1) ## The population \n",
    "beta1 <- runif(n = 1, min = 1, max = 3) ## The population beta1 \n",
    "sig2 <- rchisq(n = 1, df = 25) ## The error variance sigma^2\n",
    "\n",
    "## Multiple simulation may require loops ## \n",
    "nsample = 5 ## Sample size\n",
    "n.sim <- 100 ## The number of simulations \n",
    "sigX <- 0.2 ## The variances of X\n",
    "\n",
    "## Simulate the predictor variable ##\n",
    "X <- rnorm(nsample, mean = 0, sd = sqrt(sigX))\n"
   ]
  },
  {
   "cell_type": "markdown",
   "metadata": {},
   "source": [
    "2. Fix the sample size nsample = 5 . Execute 100 simulations (i.e., n.sim = 100). \n",
    "For each simulation estimate the regression coefficients. Calculate the mean of the estimates from the different simulations. Comment on your observations."
   ]
  },
  {
   "cell_type": "code",
   "execution_count": 1,
   "metadata": {},
   "outputs": [],
   "source": [
    "\n",
    "# nsample is 5.\n",
    "# fix n.sim to 100\n",
    "\n",
    "b0 <- vector() ## saves the sample estimates of beta0\n",
    "b1 <- vector() ## saves the sample estimates of beta1\n",
    "sigy <- vector()  ## Saves the estimate of error variance\n",
    "\n",
    "\n",
    "\n",
    "\n",
    "\n",
    "varb1 <- vector()\n",
    "varb0 <- vector()\n",
    "\n",
    "conf_z_b1 <- vector()\n",
    "\n",
    "\n",
    "count_b0z = 0\n",
    "count_b1z = 0\n",
    "count_b0t = 0\n",
    "count_b1t = 0\n",
    "\n",
    "\n",
    "for(i in 1:n.sim){\n",
    "    Y <- beta0 + beta1*X + rnorm(n = nsample, mean = 0, sd = sqrt(sig2))\n",
    "    model <- lm(Y ~ X)\n",
    "    \n",
    "    alpha <- 0.05\n",
    "    SXX <- (var(X) * (nsample -1))\n",
    "    \n",
    "    b0[i] <- coef(model)[1]\n",
    "    b1[i] <- coef(model)[2]\n",
    "    \n",
    "    varb1[i] <- sig2/(var(X) * (nsample -1))\n",
    "#     (var(X) * 4) SXX\n",
    "    varb0[i] <- sig2*((1/nsample) + (mean(X)^2/(var(X) * (nsample-1))))\n",
    "    \n",
    "    sigy[i] <- summary(model)$sigma^2\n",
    "    \n",
    "\n",
    "    b0_l_z = b0[i] - qnorm(1 - (alpha)/2) * (sqrt(sig2) * sqrt((1/nsample) + mean(X)^2/SXX))\n",
    "    b0_r_z = b0[i] + qnorm(1 - (alpha)/2) * (sqrt(sig2) * sqrt((1/nsample) + mean(X)^2/SXX))\n",
    "    \n",
    "    b1_l_z = b1[i] - qnorm(1 - (alpha)/2) * (sqrt(sig2)/sqrt(SXX))\n",
    "    b1_r_z = b1[i] + qnorm(1 - (alpha)/2) * (sqrt(sig2)/sqrt(SXX))\n",
    "#     print(c(b1_ll_z, b1_ul_z))\n",
    "    \n",
    "    b0_l_t = b0[i] - qt(1 - (alpha/2), df = (nsample - 2))*(sqrt(sigy[i])*sqrt((1/nsample) + (mean(X)^2/SXX)))\n",
    "    b0_r_t = b0[i] + qt(1 - (alpha/2), df = (nsample - 2))*(sqrt(sigy[i])*sqrt((1/nsample) + (mean(X)^2/SXX)))\n",
    "                            \n",
    "    b1_l_t = b1[i] - qt(1 - (alpha/2), df = (nsample - 2))*(sqrt(sigy[i])/(sqrt(SXX)))\n",
    "    b1_r_t = b1[i] + qt(1 - (alpha/2), df = (nsample - 2))*(sqrt(sigy[i])/(sqrt(SXX)))\n",
    "    \n",
    "\n",
    "    if(beta0 <= b0_r_z & beta0 >= b0_l_z){  # 95 b0z\n",
    "        count_b0z = count_b0z + 1\n",
    "        \n",
    "    }\n",
    "    \n",
    "    if(beta1 <=  b1_r_z & beta1 >= b1_l_z){  # 97 b1z\n",
    "        count_b1z = count_b1z + 1\n",
    "        \n",
    "    }\n",
    "    \n",
    "    if(beta0 <=  b0_r_t & beta0 >= b0_l_t){  # 94 b0t\n",
    "        count_b0t = count_b0t + 1\n",
    "        \n",
    "    }\n",
    "    \n",
    "\n",
    "    if(beta1 <=  b1_r_t & beta1 >= b1_l_t){  # 96 b1t\n",
    "        count_b1t = count_b1t + 1\n",
    "        \n",
    "    }  \n",
    "    \n",
    "    \n",
    "}\n",
    "\n",
    "print(\"Proportions:\")\n",
    "\n",
    "print(\"B0z:\")\n",
    "print(count_b0z)\n",
    "\n",
    "print(\"B1z:\")\n",
    "print(count_b1z)\n",
    "\n",
    "print(\"B0t:\")\n",
    "print(count_b0t)\n",
    "\n",
    "print(\"B1t:\")\n",
    "print(count_b1t)\n",
    "\n",
    "\n",
    "print('---------------------------------------------------------------------------')\n",
    "\n",
    "\n",
    "m_b0 <- mean(b0)\n",
    "a_0 = 'mean of b0:'\n",
    "print(paste(a_0, m_b0))\n",
    "\n",
    "\n",
    "\n",
    "\n",
    "m_b1 <- mean(b1)\n",
    "a_1 = 'mean of b1:'\n",
    "print(paste(a_1, m_b1))\n",
    "\n",
    "\n",
    "\n",
    "\n",
    "m_sigy <- mean(sigy)\n",
    "a_s = 'mean of sigy:'\n",
    "print(paste(a_s, m_sigy))\n",
    "\n",
    "\n",
    "\n",
    "print('actual beta0:')\n",
    "print(beta0)\n",
    "\n",
    "print('actual beta1:')\n",
    "print(beta1)\n",
    "\n",
    "print('actual sig:')\n",
    "print(sig2)"
   ]
  },
  {
   "cell_type": "markdown",
   "metadata": {},
   "source": [
    "3. Plot the histogram of each of the regression parameters. Explain the pattern of the distribution."
   ]
  },
  {
   "cell_type": "code",
   "execution_count": null,
   "metadata": {},
   "outputs": [],
   "source": [
    "hist(b0)\n",
    "hist(b1)\n",
    "hist(sigy)"
   ]
  },
  {
   "cell_type": "markdown",
   "metadata": {},
   "source": [
    "4.Obtain the variance of the regression parameters for each simulation. This is the variance obtained from the outputs of the lm function. Calculate their means. How do these means compare to the true variance of the regression parameter estimates?"
   ]
  },
  {
   "cell_type": "code",
   "execution_count": 4,
   "metadata": {},
   "outputs": [
    {
     "name": "stdout",
     "output_type": "stream",
     "text": [
      "[1] \"means of var of b0, b1:\"\n"
     ]
    },
    {
     "data": {
      "text/html": [
       "4.8324092694816"
      ],
      "text/latex": [
       "4.8324092694816"
      ],
      "text/markdown": [
       "4.8324092694816"
      ],
      "text/plain": [
       "[1] 4.832409"
      ]
     },
     "metadata": {},
     "output_type": "display_data"
    },
    {
     "data": {
      "text/html": [
       "26.3026788948745"
      ],
      "text/latex": [
       "26.3026788948745"
      ],
      "text/markdown": [
       "26.3026788948745"
      ],
      "text/plain": [
       "[1] 26.30268"
      ]
     },
     "metadata": {},
     "output_type": "display_data"
    },
    {
     "name": "stdout",
     "output_type": "stream",
     "text": [
      "[1] \"true var of b0, b1:\"\n"
     ]
    },
    {
     "data": {
      "text/html": [
       "4.7941349470561"
      ],
      "text/latex": [
       "4.7941349470561"
      ],
      "text/markdown": [
       "4.7941349470561"
      ],
      "text/plain": [
       "[1] 4.794135"
      ]
     },
     "metadata": {},
     "output_type": "display_data"
    },
    {
     "data": {
      "text/html": [
       "32.6640368692885"
      ],
      "text/latex": [
       "32.6640368692885"
      ],
      "text/markdown": [
       "32.6640368692885"
      ],
      "text/plain": [
       "[1] 32.66404"
      ]
     },
     "metadata": {},
     "output_type": "display_data"
    }
   ],
   "source": [
    "\n",
    "print('means of var of b0, b1:')\n",
    "var(b0)\n",
    "var(b1)\n",
    "\n",
    "print('true var of b0, b1:')\n",
    "mean(varb0)\n",
    "mean(varb1)\n"
   ]
  },
  {
   "cell_type": "markdown",
   "metadata": {},
   "source": [
    "5.Construct the 95% t and z confidence intervals for β0 and β1 during every simulation. What is the proportion of the intervals for each method containing the true value of the parameters? Is this consistent with the definition of confidence interval? What differences do you observe in the t and z confidence intervals?"
   ]
  }
 ],
 "metadata": {
  "kernelspec": {
   "display_name": "R",
   "language": "R",
   "name": "ir"
  },
  "language_info": {
   "codemirror_mode": "r",
   "file_extension": ".r",
   "mimetype": "text/x-r-source",
   "name": "R",
   "pygments_lexer": "r",
   "version": "3.6.0"
  }
 },
 "nbformat": 4,
 "nbformat_minor": 2
}
